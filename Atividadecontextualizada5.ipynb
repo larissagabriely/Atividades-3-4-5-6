{
  "nbformat": 4,
  "nbformat_minor": 0,
  "metadata": {
    "colab": {
      "name": "Atividadecontextualizada5.ipynb",
      "provenance": [],
      "collapsed_sections": [],
      "authorship_tag": "ABX9TyMvsZf9zZpqzAw3jgIFOFvW",
      "include_colab_link": true
    },
    "kernelspec": {
      "name": "python3",
      "display_name": "Python 3"
    },
    "language_info": {
      "name": "python"
    }
  },
  "cells": [
    {
      "cell_type": "markdown",
      "metadata": {
        "id": "view-in-github",
        "colab_type": "text"
      },
      "source": [
        "<a href=\"https://colab.research.google.com/github/larissagabriely/Atividades-3-4-5-6/blob/AtividadesProg.main/Atividadecontextualizada5.ipynb\" target=\"_parent\"><img src=\"https://colab.research.google.com/assets/colab-badge.svg\" alt=\"Open In Colab\"/></a>"
      ]
    },
    {
      "cell_type": "code",
      "metadata": {
        "id": "2a2OYth1r3wc"
      },
      "source": [
        "#Listas com informações COVID\n",
        "\n",
        "listas_estados = ['RJ','AC','AM','RR','PA','AP','TO','MA','PI','CE']\n",
        "lista_pop = [17264943,881935,4144597,605761,8602865,845731,1572866,7075181,3273227,9132078]\n",
        "lista_casos_acumulados = [678601,41941,201574,68710,293802,68361,90536,200959,143179,335992]\n",
        "lista_obitos = [39298,798,5295,787,7199,926,1236,4506,2840,9993] \n",
        "\n",
        "#Tuplas informações COVID\n",
        "\n",
        "tuplas_estados = ('MG','PA','AP','TO','MA','PI','PE','BA','RJ','PI')\n",
        "tupla_pop= (12459,1814,157698,5397,3434,9287,4891,951,8258,17264943,864845)\n",
        "tupla_casos_acumulados = (324,5120,812,200,15,386,951,403,435604,54542,)\n",
        "tuplas_obitos = (4,121,4,1,4,11,4,1,25608,1264)\n"
      ],
      "execution_count": null,
      "outputs": []
    },
    {
      "cell_type": "code",
      "metadata": {
        "id": "9DucwS1puJ4_"
      },
      "source": [
        "#Print listas e tulipas\n",
        "\n",
        "print(\" Casos acumulados no estado RJ (lista): \", lista_casos_acumulados [1]) \n",
        "\n",
        "print(\"Casos acumulados do Rio de Janeiro (Tupla):\", tupla_casos_acumulados[9])\n"
      ],
      "execution_count": null,
      "outputs": []
    },
    {
      "cell_type": "code",
      "metadata": {
        "id": "QwpFsBk3u6lO",
        "colab": {
          "base_uri": "https://localhost:8080/"
        },
        "outputId": "d3d51d15-140d-44c4-ed01-5a35c14739a3"
      },
      "source": [
        "#Óbitos acumulados\n",
        "lis_tobitos_acumuladosRJ = [66134]\n",
        "print(\"Óbitos acumulados no Rio de janeiro:\", lis_obitos_acumuladosRJ)\n",
        "\n",
        "lis_tobitos_acumuladosPA = [9311]\n",
        "print(\"Óbitos acumulados no estado da Paraíba:\", lis_tobitos_acumuladosPA)\n",
        "\n",
        "lis_obitos_acumuladosRN = [7337]\n",
        "print(\"Óbitos acumulados no estado do Rio Grande do Norte:\", lis_obitos_acumuladosRN)\n",
        "\n",
        "\n",
        "tul_obitos_acumuladosRJ = (7337)\n",
        "print(\"Óbitos acumulados no Rio de janeiro:\", tul_obitos_acumuladosRJ)\n",
        "\n",
        "tul_obitos_acumuladosPA = (93311)\n",
        "print(\"Óbitos acumulados no estado da Paraíba:\", tul_obitos_acumuladosPA)\n",
        "\n",
        "tul_obitos_AcumuladosRN = (7337)\n",
        "print(\"Óbitos acumulados no estado do Rio Grande do Norte:\", tul_obitos_AcumuladosRN)\n",
        "\n"
      ],
      "execution_count": null,
      "outputs": [
        {
          "output_type": "stream",
          "name": "stdout",
          "text": [
            "Óbitos acumulados no Rio de janeiro: [66134]\n",
            "Óbitos acumulados no estado da Paraíba: [9311]\n"
          ]
        }
      ]
    },
    {
      "cell_type": "code",
      "metadata": {
        "id": "FZeu7_d6wFiN"
      },
      "source": [
        "#Correção Listas e tuplas\n",
        "\n",
        "print(\"Correção dos dados de óbitos novos para o estado da paraíba:\")\n",
        "print(lista_obitos [5]+10)\n",
        "print(tuplas_obitos[2]+10)"
      ],
      "execution_count": null,
      "outputs": []
    },
    {
      "cell_type": "markdown",
      "metadata": {
        "id": "BGKIoYekwdDd"
      },
      "source": [
        "Não é possível alteração na tupla."
      ]
    },
    {
      "cell_type": "code",
      "metadata": {
        "id": "U3VM0T3AwlLn",
        "colab": {
          "base_uri": "https://localhost:8080/"
        },
        "outputId": "e839ef36-0a81-413c-e68a-275018c37c2e"
      },
      "source": [
        "#Nova lista de um estado todos os municipios\n",
        "#Listas com informações COVID\n",
        "\n",
        "listas_estados = ['RJ','AC','AM','RR','PA','AP','TO','MA','PI','CE']\n",
        "lista_pop = [17264943,881935,4144597,605761,8602865,845731,1572866,7075181,3273227,9132078]\n",
        "lista_casos_acumulados = [678601,41941,201574,68710,293802,68361,90536,200959,143179,335992]\n",
        "lista_obitos = [39298,798,5295,787,7199,926,1236,4506,2840,9993] \n",
        "\n",
        "\n",
        "listaAP = ['Amapá, Calçoene, \tCutias, Ferreira Gomes, Itaubal, Laranjal do Jari , Macapá, Mazagão, Oiapoque, Pedra Branca do Amapari, Porto Grande, Pracuúba, Santana']\n",
        "populacaoAP = [5397, 11117, 5983, 7780, 5503, 50410,503327, 56905, 21632,  ]\n",
        "CasosAP = [1024,1648,870,2162,521, 8355, 3031, 56905,5172]\n",
        "ObtosAP = [20,10,6,5,3,95,1403, 47,1403]\n",
        "\n",
        "\n",
        "\n",
        "listas_estados.append(listaAP)\n",
        "print(listas_estados)\n",
        "lista_pop.append(populacaoAP )\n",
        "print(populacaoAP)\n",
        "lista_casos_acumulados.append(CasosAP)\n",
        "print(lista_casos_acumulados)\n",
        "lista_obitos.append(ObtosAP)\n",
        "print(ObtosAP)"
      ],
      "execution_count": 6,
      "outputs": [
        {
          "output_type": "stream",
          "name": "stdout",
          "text": [
            "['RJ', 'AC', 'AM', 'RR', 'PA', 'AP', 'TO', 'MA', 'PI', 'CE', ['Amapá, Calçoene, \\tCutias, Ferreira Gomes, Itaubal, Laranjal do Jari , Macapá, Mazagão, Oiapoque, Pedra Branca do Amapari, Porto Grande, Pracuúba, Santana']]\n",
            "[5397, 11117, 5983, 7780, 5503, 50410, 503327, 56905, 21632]\n",
            "[678601, 41941, 201574, 68710, 293802, 68361, 90536, 200959, 143179, 335992, [1024, 1648, 870, 2162, 521, 8355, 3031, 56905, 5172]]\n",
            "[20, 10, 6, 5, 3, 95, 1403, 47, 1403]\n"
          ]
        }
      ]
    },
    {
      "cell_type": "code",
      "metadata": {
        "colab": {
          "base_uri": "https://localhost:8080/"
        },
        "id": "HdIdRxz0FTOX",
        "outputId": "f76cf439-d36c-4fa4-f90e-027366d805b7"
      },
      "source": [
        "#Remova da lista os dados das regiões de saúde.\n",
        "\n",
        "listas_estados.append(listaAP)\n",
        "print(listas_estados)\n",
        "listas_estados.remove(listaAP)\n",
        "print(listas_estados)\n"
      ],
      "execution_count": 7,
      "outputs": [
        {
          "output_type": "stream",
          "name": "stdout",
          "text": [
            "['RJ', 'AC', 'AM', 'RR', 'PA', 'AP', 'TO', 'MA', 'PI', 'CE', ['Amapá, Calçoene, \\tCutias, Ferreira Gomes, Itaubal, Laranjal do Jari , Macapá, Mazagão, Oiapoque, Pedra Branca do Amapari, Porto Grande, Pracuúba, Santana'], ['Amapá, Calçoene, \\tCutias, Ferreira Gomes, Itaubal, Laranjal do Jari , Macapá, Mazagão, Oiapoque, Pedra Branca do Amapari, Porto Grande, Pracuúba, Santana']]\n",
            "['RJ', 'AC', 'AM', 'RR', 'PA', 'AP', 'TO', 'MA', 'PI', 'CE', ['Amapá, Calçoene, \\tCutias, Ferreira Gomes, Itaubal, Laranjal do Jari , Macapá, Mazagão, Oiapoque, Pedra Branca do Amapari, Porto Grande, Pracuúba, Santana']]\n"
          ]
        }
      ]
    },
    {
      "cell_type": "code",
      "metadata": {
        "id": "iidmDDIbGo95"
      },
      "source": [
        ""
      ],
      "execution_count": null,
      "outputs": []
    },
    {
      "cell_type": "code",
      "metadata": {
        "id": "6Y7bpdnSxVhG"
      },
      "source": [
        "#Dados casos novos de Teresina/PI :\n",
        "\n",
        "DadosTeresina = ('Nordeste','PI','Teresina',22,221100,22004,'ENTRE RIOS','2021-06-30',26,864845,100215,94,2451,11,1)\t\n",
        "print(DadosTeresina[12])\t"
      ],
      "execution_count": null,
      "outputs": []
    }
  ]
}